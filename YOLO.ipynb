{
 "cells": [
  {
   "cell_type": "code",
   "execution_count": null,
   "metadata": {},
   "outputs": [],
   "source": [
    "import cv2\n",
    "import numpy as np\n",
    "from ultralytics import YOLO  # YOLOv8 모델 사용\n",
    "\n",
    "# 1️⃣ YOLOv8 모델 로드 (사전 학습된 모델 사용)\n",
    "model = YOLO(\"yolov8n.pt\")  # YOLOv8 기본 모델 (n: nano, l: large 등)\n",
    "\n",
    "# 2️⃣ 이미지 불러오기\n",
    "image_path = \"C:/Users/wlsth/OneDrive/Desktop/MS_Project/data/CrackedPhone/resized_crackedPhone(B)_R/crackedPhone1.jpg\"\n",
    "img = cv2.imread(image_path)\n",
    "\n",
    "# 3️⃣ YOLO로 핸드폰 감지\n",
    "results = model(img)\n",
    "\n",
    "# 핸드폰 감지된 영역 저장\n",
    "phone_detected = False\n",
    "for r in results:\n",
    "    for box in r.boxes:\n",
    "        cls = int(box.cls[0])  # 감지된 객체의 클래스\n",
    "        if model.names[cls] == \"cell phone\":  # YOLO 클래스 이름 확인\n",
    "            phone_detected = True\n",
    "            x1, y1, x2, y2 = map(int, box.xyxy[0])  # 바운딩 박스 좌표\n",
    "            \n",
    "            # 4️⃣ 핸드폰 영역만 자르기\n",
    "            phone_img = img[y1:y2, x1:x2]\n",
    "            \n",
    "            # 5️⃣ 크랙 분석을 위해 저장\n",
    "            cropped_path = \"cropped_phone.jpg\"\n",
    "            cv2.imwrite(cropped_path, phone_img)\n",
    "            print(f\"📱 핸드폰 감지 완료! 크롭된 이미지 저장: {cropped_path}\")\n",
    "\n",
    "            # 6️⃣ Canny 엣지 검출 (크랙 분석)\n",
    "            gray = cv2.cvtColor(phone_img, cv2.COLOR_BGR2GRAY)\n",
    "            edges = cv2.Canny(gray, 100, 200)\n",
    "\n",
    "            # 7️⃣ 크랙 영역 찾기 (Contours)\n",
    "            contours, _ = cv2.findContours(edges, cv2.RETR_EXTERNAL, cv2.CHAIN_APPROX_SIMPLE)\n",
    "            cv2.drawContours(phone_img, contours, -1, (0, 0, 255), 2)  # 윤곽선 빨간색\n",
    "\n",
    "            # 8️⃣ 결과 출력\n",
    "            print(f\"🔍 검출된 크랙 개수: {len(contours)}\")\n",
    "\n",
    "            # 9️⃣ 결과 이미지 출력\n",
    "            cv2.imshow(\"Phone Image\", phone_img)\n",
    "            cv2.imshow(\"Crack Detection\", edges)\n",
    "            cv2.waitKey(0)\n",
    "            cv2.destroyAllWindows()\n",
    "\n",
    "if not phone_detected:\n",
    "    print(\"⚠ 핸드폰을 감지하지 못했습니다. 이미지 확인 필요!\")"
   ]
  }
 ],
 "metadata": {
  "language_info": {
   "name": "python"
  }
 },
 "nbformat": 4,
 "nbformat_minor": 2
}
